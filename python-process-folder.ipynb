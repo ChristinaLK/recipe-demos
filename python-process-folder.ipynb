{
 "cells": [
  {
   "cell_type": "markdown",
   "id": "d5b0d044-1dc1-4add-992e-67737435cc1a",
   "metadata": {},
   "source": [
    "# Processing a folder of files with a Python script\n",
    "\n",
    "You have a folder of files you would like to process with a Python script. This recipe will take you through the process of placing a workload of multiple jobs at an HTCondor Access Point where each job processes one file. The recipe assumes that the script takes the path name of the file to be processed as a command line argument. It also assumes you have generated a container with your software environment installed. "
   ]
  },
  {
   "cell_type": "markdown",
   "id": "fbb1ee64-fc9f-41b9-9548-10a8043922a2",
   "metadata": {},
   "source": [
    "1. Copy workload components (container, data folder, Python script) to the Access Point. "
   ]
  },
  {
   "cell_type": "code",
   "execution_count": null,
   "id": "0d75fc6d-21f1-4e3f-8979-f9bd7e897f1a",
   "metadata": {},
   "outputs": [],
   "source": []
  },
  {
   "cell_type": "markdown",
   "id": "c784f461-9cd5-41a3-9f06-5b7ae13c4689",
   "metadata": {},
   "source": [
    "2. Create directories for output files produced by the script. \n",
    "3. Create a workload description using the HTCondor Workload Description Language (WDL) to process a subset of the files. . \n",
    "4. Place the test workload.  \n",
    "5. Once completed, review the results. \n",
    "6. Create a workload description for the entire folder.\n",
    "7. Place the full workload. "
   ]
  }
 ],
 "metadata": {
  "kernelspec": {
   "display_name": "Bash",
   "language": "bash",
   "name": "bash"
  },
  "language_info": {
   "codemirror_mode": "shell",
   "file_extension": ".sh",
   "mimetype": "text/x-sh",
   "name": "bash"
  }
 },
 "nbformat": 4,
 "nbformat_minor": 5
}
